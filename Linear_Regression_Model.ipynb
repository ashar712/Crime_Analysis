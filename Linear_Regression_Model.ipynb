{
 "cells": [
  {
   "cell_type": "code",
   "execution_count": 18,
   "id": "f0ddb3fb",
   "metadata": {},
   "outputs": [],
   "source": [
    "# Basic Analysis and Visualization\n",
    "import pandas as pd\n",
    "import numpy as np\n",
    "import matplotlib as mpl\n",
    "import matplotlib.pyplot as plt\n",
    "import math\n",
    "import datetime as dt\n",
    "from datetime import timedelta\n",
    "from sklearn.model_selection import train_test_split\n",
    "from sklearn.linear_model import LinearRegression"
   ]
  },
  {
   "cell_type": "code",
   "execution_count": 19,
   "id": "c7fb3f5e",
   "metadata": {},
   "outputs": [],
   "source": [
    "df = pd.read_csv('Crime_Data_Clean.csv')\n",
    "df = df.set_index(\"Incident ID\")"
   ]
  },
  {
   "cell_type": "code",
   "execution_count": 20,
   "id": "0ccb9876",
   "metadata": {},
   "outputs": [],
   "source": [
    "#Convert Time Objects\n",
    "df['Start_Date_Time'] = pd.to_datetime(df['Start_Date_Time'])\n",
    "df['date'] = [d.date() for d in df['Start_Date_Time']]\n",
    "df['time'] = [d.time() for d in df['Start_Date_Time']]\n",
    "df['day'] = df['Start_Date_Time'].dt.day_name()"
   ]
  },
  {
   "cell_type": "code",
   "execution_count": 21,
   "id": "5dc3b190",
   "metadata": {},
   "outputs": [
    {
     "data": {
      "text/plain": [
       "date\n",
       "2018-11-11    12\n",
       "2020-04-04    13\n",
       "2019-12-22    13\n",
       "2019-11-28    14\n",
       "2020-01-20    15\n",
       "Name: date, dtype: int64"
      ]
     },
     "execution_count": 21,
     "metadata": {},
     "output_type": "execute_result"
    }
   ],
   "source": [
    "df_victims_date = df.groupby(\"date\")[\"date\"].count().sort_values()\n",
    "df_victims_date.head()"
   ]
  },
  {
   "cell_type": "code",
   "execution_count": 22,
   "id": "fe8aa143",
   "metadata": {},
   "outputs": [
    {
     "name": "stdout",
     "output_type": "stream",
     "text": [
      "            date  Victim Count\n",
      "0     2018-11-11            12\n",
      "1     2020-04-04            13\n",
      "2     2019-12-22            13\n",
      "3     2019-11-28            14\n",
      "4     2020-01-20            15\n",
      "...          ...           ...\n",
      "2224  2017-12-01           223\n",
      "2225  2017-08-01           225\n",
      "2226  2016-12-01           230\n",
      "2227  2016-07-01           240\n",
      "2228  2017-11-01           242\n",
      "\n",
      "[2229 rows x 2 columns]\n"
     ]
    }
   ],
   "source": [
    "df_table = df_victims_date.reset_index(name=\"Victim Count\")\n",
    "print(df_table)"
   ]
  },
  {
   "cell_type": "code",
   "execution_count": 23,
   "id": "48b703e9",
   "metadata": {},
   "outputs": [],
   "source": [
    "df_table = df_table.fillna(value=np.nan)"
   ]
  },
  {
   "cell_type": "code",
   "execution_count": 24,
   "id": "969adb03",
   "metadata": {},
   "outputs": [],
   "source": [
    "# Can't Use Datatime for Regression, Convert datetime to string\n",
    "df_table['date'] = pd.to_datetime(df_table['date'])\n",
    "df_table['date'] = df_table['date'].map(dt.datetime.toordinal)"
   ]
  },
  {
   "cell_type": "code",
   "execution_count": 25,
   "id": "d5051207",
   "metadata": {},
   "outputs": [
    {
     "data": {
      "text/html": [
       "<div>\n",
       "<style scoped>\n",
       "    .dataframe tbody tr th:only-of-type {\n",
       "        vertical-align: middle;\n",
       "    }\n",
       "\n",
       "    .dataframe tbody tr th {\n",
       "        vertical-align: top;\n",
       "    }\n",
       "\n",
       "    .dataframe thead th {\n",
       "        text-align: right;\n",
       "    }\n",
       "</style>\n",
       "<table border=\"1\" class=\"dataframe\">\n",
       "  <thead>\n",
       "    <tr style=\"text-align: right;\">\n",
       "      <th></th>\n",
       "      <th>date</th>\n",
       "      <th>Victim Count</th>\n",
       "    </tr>\n",
       "  </thead>\n",
       "  <tbody>\n",
       "    <tr>\n",
       "      <th>0</th>\n",
       "      <td>737009</td>\n",
       "      <td>12</td>\n",
       "    </tr>\n",
       "    <tr>\n",
       "      <th>1</th>\n",
       "      <td>737519</td>\n",
       "      <td>13</td>\n",
       "    </tr>\n",
       "    <tr>\n",
       "      <th>2</th>\n",
       "      <td>737415</td>\n",
       "      <td>13</td>\n",
       "    </tr>\n",
       "    <tr>\n",
       "      <th>3</th>\n",
       "      <td>737391</td>\n",
       "      <td>14</td>\n",
       "    </tr>\n",
       "    <tr>\n",
       "      <th>4</th>\n",
       "      <td>737444</td>\n",
       "      <td>15</td>\n",
       "    </tr>\n",
       "    <tr>\n",
       "      <th>...</th>\n",
       "      <td>...</td>\n",
       "      <td>...</td>\n",
       "    </tr>\n",
       "    <tr>\n",
       "      <th>2224</th>\n",
       "      <td>736664</td>\n",
       "      <td>223</td>\n",
       "    </tr>\n",
       "    <tr>\n",
       "      <th>2225</th>\n",
       "      <td>736542</td>\n",
       "      <td>225</td>\n",
       "    </tr>\n",
       "    <tr>\n",
       "      <th>2226</th>\n",
       "      <td>736299</td>\n",
       "      <td>230</td>\n",
       "    </tr>\n",
       "    <tr>\n",
       "      <th>2227</th>\n",
       "      <td>736146</td>\n",
       "      <td>240</td>\n",
       "    </tr>\n",
       "    <tr>\n",
       "      <th>2228</th>\n",
       "      <td>736634</td>\n",
       "      <td>242</td>\n",
       "    </tr>\n",
       "  </tbody>\n",
       "</table>\n",
       "<p>2229 rows × 2 columns</p>\n",
       "</div>"
      ],
      "text/plain": [
       "        date  Victim Count\n",
       "0     737009            12\n",
       "1     737519            13\n",
       "2     737415            13\n",
       "3     737391            14\n",
       "4     737444            15\n",
       "...      ...           ...\n",
       "2224  736664           223\n",
       "2225  736542           225\n",
       "2226  736299           230\n",
       "2227  736146           240\n",
       "2228  736634           242\n",
       "\n",
       "[2229 rows x 2 columns]"
      ]
     },
     "execution_count": 25,
     "metadata": {},
     "output_type": "execute_result"
    }
   ],
   "source": [
    "df_table"
   ]
  },
  {
   "cell_type": "code",
   "execution_count": 26,
   "id": "992a7de6",
   "metadata": {},
   "outputs": [
    {
     "name": "stdout",
     "output_type": "stream",
     "text": [
      "(2229, 1)\n",
      "[[737009]\n",
      " [737519]\n",
      " [737415]\n",
      " ...\n",
      " [736299]\n",
      " [736146]\n",
      " [736634]]\n"
     ]
    }
   ],
   "source": [
    "y = df_table['Victim Count'].values.reshape(-1, 1)\n",
    "X = df_table['date'].values.reshape(-1, 1)\n",
    "\n",
    "print(X.shape)\n",
    "print(X)"
   ]
  },
  {
   "cell_type": "code",
   "execution_count": 12,
   "id": "5ee4ee1f",
   "metadata": {},
   "outputs": [
    {
     "data": {
      "text/plain": [
       "LinearRegression()"
      ]
     },
     "execution_count": 12,
     "metadata": {},
     "output_type": "execute_result"
    }
   ],
   "source": [
    "X_train, X_test, y_train, y_test = train_test_split(X, y, test_size = 0.2)\n",
    "\n",
    "regressor = LinearRegression()\n",
    "regressor.fit(X_train, y_train)"
   ]
  },
  {
   "cell_type": "code",
   "execution_count": 13,
   "id": "384bffde",
   "metadata": {},
   "outputs": [],
   "source": [
    "#Prediciting Y from Linear regression Model\n",
    "y_pred = regressor.predict(X_test)"
   ]
  },
  {
   "cell_type": "code",
   "execution_count": 14,
   "id": "e492517a",
   "metadata": {},
   "outputs": [
    {
     "data": {
      "image/png": "[encoded data removed]",
      "text/plain": [
       "<Figure size 432x288 with 1 Axes>"
      ]
     },
     "metadata": {
      "needs_background": "light"
     },
     "output_type": "display_data"
    },
    {
     "data": {
      "image/png": "[encoded data removed]",
      "text/plain": [
       "<Figure size 432x288 with 1 Axes>"
      ]
     },
     "metadata": {
      "needs_background": "light"
     },
     "output_type": "display_data"
    }
   ],
   "source": [
    "#ploting graph\n",
    "plt.scatter(X_train,y_train,color='red',marker='X')\n",
    "plt.plot(X_train,regressor.predict(X_train),color='blue')\n",
    "plt.title('Training Set')\n",
    "plt.show()\n",
    "\n",
    "plt.scatter(X_test,y_test,color='red',marker='X')\n",
    "plt.plot(X_train,regressor.predict(X_train),color='blue')\n",
    "plt.title('Test Set')\n",
    "plt.show()"
   ]
  },
  {
   "cell_type": "code",
   "execution_count": null,
   "id": "f120a7c2",
   "metadata": {},
   "outputs": [],
   "source": []
  }
 ],
 "metadata": {
  "kernelspec": {
   "display_name": "Python 3 (ipykernel)",
   "language": "python",
   "name": "python3"
  },
  "language_info": {
   "codemirror_mode": {
    "name": "ipython",
    "version": 3
   },
   "file_extension": ".py",
   "mimetype": "text/x-python",
   "name": "python",
   "nbconvert_exporter": "python",
   "pygments_lexer": "ipython3",
   "version": "3.9.12"
  }
 },
 "nbformat": 4,
 "nbformat_minor": 5
}
