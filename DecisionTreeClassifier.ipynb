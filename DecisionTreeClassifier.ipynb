{
 "cells": [
  {
   "cell_type": "code",
   "execution_count": 1,
   "id": "eaabc9c4",
   "metadata": {},
   "outputs": [],
   "source": [
    "import pandas as pd\n",
    "import numpy as np\n",
    "from sklearn import preprocessing\n",
    "import matplotlib.pyplot as plt \n",
    "plt.rc('font', size=14)\n",
    "from sklearn.tree import DecisionTreeClassifier\n",
    "from sklearn.model_selection import train_test_split\n",
    "import seaborn as sns\n",
    "sns.set(style='white')\n",
    "sns.set(style='whitegrid', color_codes=True)\n",
    "import warnings\n",
    "warnings.filterwarnings('ignore')"
   ]
  },
  {
   "cell_type": "code",
   "execution_count": 2,
   "id": "0eacf80a",
   "metadata": {},
   "outputs": [
    {
     "name": "stdout",
     "output_type": "stream",
     "text": [
      "(202320, 30)\n",
      "['Incident ID', 'Offence Code', 'CR Number', 'Dispatch Date / Time', 'NIBRS Code', 'Victims', 'Crime Name1', 'Crime Name2', 'Crime Name3', 'Police District Name', 'City', 'State', 'Zip Code', 'Agency', 'Place', 'Sector', 'Beat', 'PRA', 'Address Number', 'Street Prefix', 'Street Name', 'Street Suffix', 'Street Type', 'Start_Date_Time', 'End_Date_Time', 'Latitude', 'Longitude', 'Police District Number', 'Location', 'IsSeriousCrime']\n"
     ]
    }
   ],
   "source": [
    "data = pd.read_csv('Crime_Data_Clean.csv')\n",
    "data.dropna()\n",
    "print(data.shape)\n",
    "print(list(data.columns))"
   ]
  },
  {
   "cell_type": "code",
   "execution_count": 3,
   "id": "817ac36d",
   "metadata": {},
   "outputs": [
    {
     "data": {
      "text/html": [
       "<div>\n",
       "<style scoped>\n",
       "    .dataframe tbody tr th:only-of-type {\n",
       "        vertical-align: middle;\n",
       "    }\n",
       "\n",
       "    .dataframe tbody tr th {\n",
       "        vertical-align: top;\n",
       "    }\n",
       "\n",
       "    .dataframe thead th {\n",
       "        text-align: right;\n",
       "    }\n",
       "</style>\n",
       "<table border=\"1\" class=\"dataframe\">\n",
       "  <thead>\n",
       "    <tr style=\"text-align: right;\">\n",
       "      <th></th>\n",
       "      <th>Incident ID</th>\n",
       "      <th>Offence Code</th>\n",
       "      <th>CR Number</th>\n",
       "      <th>Dispatch Date / Time</th>\n",
       "      <th>NIBRS Code</th>\n",
       "      <th>Victims</th>\n",
       "      <th>Crime Name1</th>\n",
       "      <th>Crime Name2</th>\n",
       "      <th>Crime Name3</th>\n",
       "      <th>Police District Name</th>\n",
       "      <th>...</th>\n",
       "      <th>Street Name</th>\n",
       "      <th>Street Suffix</th>\n",
       "      <th>Street Type</th>\n",
       "      <th>Start_Date_Time</th>\n",
       "      <th>End_Date_Time</th>\n",
       "      <th>Latitude</th>\n",
       "      <th>Longitude</th>\n",
       "      <th>Police District Number</th>\n",
       "      <th>Location</th>\n",
       "      <th>IsSeriousCrime</th>\n",
       "    </tr>\n",
       "  </thead>\n",
       "  <tbody>\n",
       "    <tr>\n",
       "      <th>0</th>\n",
       "      <td>201202980</td>\n",
       "      <td>3550.0</td>\n",
       "      <td>180042096</td>\n",
       "      <td>8/23/2018 21:52</td>\n",
       "      <td>35B</td>\n",
       "      <td>1</td>\n",
       "      <td>Crime Against Society</td>\n",
       "      <td>Drug Equipment Violations</td>\n",
       "      <td>DRUGS - NARCOTIC EQUIP - POSSESS</td>\n",
       "      <td>GERMANTOWN</td>\n",
       "      <td>...</td>\n",
       "      <td>MIDDLEBROOK</td>\n",
       "      <td>NaN</td>\n",
       "      <td>RD</td>\n",
       "      <td>8/23/2018 21:52</td>\n",
       "      <td>NaN</td>\n",
       "      <td>39.177744</td>\n",
       "      <td>-77.265619</td>\n",
       "      <td>5D</td>\n",
       "      <td>(39.1777, -77.2656)</td>\n",
       "      <td>1</td>\n",
       "    </tr>\n",
       "    <tr>\n",
       "      <th>1</th>\n",
       "      <td>201181293</td>\n",
       "      <td>3522.0</td>\n",
       "      <td>180015424</td>\n",
       "      <td>3/30/2018 1:00</td>\n",
       "      <td>35A</td>\n",
       "      <td>1</td>\n",
       "      <td>Crime Against Society</td>\n",
       "      <td>Drug/Narcotic Violations</td>\n",
       "      <td>DRUGS - OPIUM OR DERIVATIVE - POSSESS</td>\n",
       "      <td>BETHESDA</td>\n",
       "      <td>...</td>\n",
       "      <td>WOODMONT</td>\n",
       "      <td>NaN</td>\n",
       "      <td>AVE</td>\n",
       "      <td>3/30/2018 1:01</td>\n",
       "      <td>NaN</td>\n",
       "      <td>38.992693</td>\n",
       "      <td>-77.097063</td>\n",
       "      <td>2D</td>\n",
       "      <td>(38.9927, -77.0971)</td>\n",
       "      <td>1</td>\n",
       "    </tr>\n",
       "    <tr>\n",
       "      <th>2</th>\n",
       "      <td>201181293</td>\n",
       "      <td>3562.0</td>\n",
       "      <td>180015424</td>\n",
       "      <td>3/30/2018 1:00</td>\n",
       "      <td>35A</td>\n",
       "      <td>1</td>\n",
       "      <td>Crime Against Society</td>\n",
       "      <td>Drug/Narcotic Violations</td>\n",
       "      <td>DRUGS - MARIJUANA - POSSESS</td>\n",
       "      <td>BETHESDA</td>\n",
       "      <td>...</td>\n",
       "      <td>WOODMONT</td>\n",
       "      <td>NaN</td>\n",
       "      <td>AVE</td>\n",
       "      <td>3/30/2018 1:01</td>\n",
       "      <td>NaN</td>\n",
       "      <td>38.992693</td>\n",
       "      <td>-77.097063</td>\n",
       "      <td>2D</td>\n",
       "      <td>(38.9927, -77.0971)</td>\n",
       "      <td>1</td>\n",
       "    </tr>\n",
       "    <tr>\n",
       "      <th>3</th>\n",
       "      <td>201193163</td>\n",
       "      <td>3520.0</td>\n",
       "      <td>180029476</td>\n",
       "      <td>6/14/2018 22:26</td>\n",
       "      <td>35A</td>\n",
       "      <td>1</td>\n",
       "      <td>Crime Against Society</td>\n",
       "      <td>Drug/Narcotic Violations</td>\n",
       "      <td>DRUGS - OPIUM OR DERIVATIVE - SELL</td>\n",
       "      <td>MONTGOMERY VILLAGE</td>\n",
       "      <td>...</td>\n",
       "      <td>QUINCE ORCHARD</td>\n",
       "      <td>NaN</td>\n",
       "      <td>RD</td>\n",
       "      <td>6/14/2018 22:26</td>\n",
       "      <td>6/15/2018 3:00</td>\n",
       "      <td>39.147954</td>\n",
       "      <td>-77.218189</td>\n",
       "      <td>6D</td>\n",
       "      <td>(39.148, -77.2182)</td>\n",
       "      <td>1</td>\n",
       "    </tr>\n",
       "    <tr>\n",
       "      <th>4</th>\n",
       "      <td>201204355</td>\n",
       "      <td>2204.0</td>\n",
       "      <td>180043926</td>\n",
       "      <td>9/3/2018 12:06</td>\n",
       "      <td>220</td>\n",
       "      <td>1</td>\n",
       "      <td>Crime Against Property</td>\n",
       "      <td>Burglary/Breaking and Entering</td>\n",
       "      <td>BURGLARY - NO FORCED ENTRY-RESIDENTIAL</td>\n",
       "      <td>BETHESDA</td>\n",
       "      <td>...</td>\n",
       "      <td>FALSTONE</td>\n",
       "      <td>NaN</td>\n",
       "      <td>AVE</td>\n",
       "      <td>9/2/2018 23:30</td>\n",
       "      <td>9/3/2018 0:30</td>\n",
       "      <td>38.966174</td>\n",
       "      <td>-77.096561</td>\n",
       "      <td>2D</td>\n",
       "      <td>(38.9662, -77.0966)</td>\n",
       "      <td>0</td>\n",
       "    </tr>\n",
       "  </tbody>\n",
       "</table>\n",
       "<p>5 rows × 30 columns</p>\n",
       "</div>"
      ],
      "text/plain": [
       "   Incident ID  Offence Code  CR Number Dispatch Date / Time NIBRS Code  \\\n",
       "0    201202980        3550.0  180042096      8/23/2018 21:52        35B   \n",
       "1    201181293        3522.0  180015424       3/30/2018 1:00        35A   \n",
       "2    201181293        3562.0  180015424       3/30/2018 1:00        35A   \n",
       "3    201193163        3520.0  180029476      6/14/2018 22:26        35A   \n",
       "4    201204355        2204.0  180043926       9/3/2018 12:06        220   \n",
       "\n",
       "   Victims             Crime Name1                     Crime Name2  \\\n",
       "0        1   Crime Against Society       Drug Equipment Violations   \n",
       "1        1   Crime Against Society        Drug/Narcotic Violations   \n",
       "2        1   Crime Against Society        Drug/Narcotic Violations   \n",
       "3        1   Crime Against Society        Drug/Narcotic Violations   \n",
       "4        1  Crime Against Property  Burglary/Breaking and Entering   \n",
       "\n",
       "                              Crime Name3 Police District Name  ...  \\\n",
       "0        DRUGS - NARCOTIC EQUIP - POSSESS           GERMANTOWN  ...   \n",
       "1   DRUGS - OPIUM OR DERIVATIVE - POSSESS             BETHESDA  ...   \n",
       "2             DRUGS - MARIJUANA - POSSESS             BETHESDA  ...   \n",
       "3      DRUGS - OPIUM OR DERIVATIVE - SELL   MONTGOMERY VILLAGE  ...   \n",
       "4  BURGLARY - NO FORCED ENTRY-RESIDENTIAL             BETHESDA  ...   \n",
       "\n",
       "      Street Name Street Suffix  Street Type  Start_Date_Time   End_Date_Time  \\\n",
       "0     MIDDLEBROOK           NaN           RD  8/23/2018 21:52             NaN   \n",
       "1        WOODMONT           NaN          AVE   3/30/2018 1:01             NaN   \n",
       "2        WOODMONT           NaN          AVE   3/30/2018 1:01             NaN   \n",
       "3  QUINCE ORCHARD           NaN           RD  6/14/2018 22:26  6/15/2018 3:00   \n",
       "4        FALSTONE           NaN          AVE   9/2/2018 23:30   9/3/2018 0:30   \n",
       "\n",
       "    Latitude  Longitude  Police District Number             Location  \\\n",
       "0  39.177744 -77.265619                      5D  (39.1777, -77.2656)   \n",
       "1  38.992693 -77.097063                      2D  (38.9927, -77.0971)   \n",
       "2  38.992693 -77.097063                      2D  (38.9927, -77.0971)   \n",
       "3  39.147954 -77.218189                      6D   (39.148, -77.2182)   \n",
       "4  38.966174 -77.096561                      2D  (38.9662, -77.0966)   \n",
       "\n",
       "  IsSeriousCrime  \n",
       "0              1  \n",
       "1              1  \n",
       "2              1  \n",
       "3              1  \n",
       "4              0  \n",
       "\n",
       "[5 rows x 30 columns]"
      ]
     },
     "execution_count": 3,
     "metadata": {},
     "output_type": "execute_result"
    }
   ],
   "source": [
    "data.head()"
   ]
  },
  {
   "cell_type": "code",
   "execution_count": 4,
   "id": "269e5fd5",
   "metadata": {},
   "outputs": [
    {
     "data": {
      "text/plain": [
       "array(['Crime Against Society', 'Crime Against Property',\n",
       "       'Crime Against Person', 'Other', 'Not a Crime'], dtype=object)"
      ]
     },
     "execution_count": 4,
     "metadata": {},
     "output_type": "execute_result"
    }
   ],
   "source": [
    "data['Crime Name1'].unique()"
   ]
  },
  {
   "cell_type": "code",
   "execution_count": 5,
   "id": "75244840",
   "metadata": {},
   "outputs": [
    {
     "data": {
      "text/html": [
       "<div>\n",
       "<style scoped>\n",
       "    .dataframe tbody tr th:only-of-type {\n",
       "        vertical-align: middle;\n",
       "    }\n",
       "\n",
       "    .dataframe tbody tr th {\n",
       "        vertical-align: top;\n",
       "    }\n",
       "\n",
       "    .dataframe thead th {\n",
       "        text-align: right;\n",
       "    }\n",
       "</style>\n",
       "<table border=\"1\" class=\"dataframe\">\n",
       "  <thead>\n",
       "    <tr style=\"text-align: right;\">\n",
       "      <th></th>\n",
       "      <th>Crime Type</th>\n",
       "      <th>Count</th>\n",
       "      <th>Percentage</th>\n",
       "    </tr>\n",
       "  </thead>\n",
       "  <tbody>\n",
       "    <tr>\n",
       "      <th>0</th>\n",
       "      <td>Crime Against Society</td>\n",
       "      <td>40604</td>\n",
       "      <td>0.200692</td>\n",
       "    </tr>\n",
       "    <tr>\n",
       "      <th>1</th>\n",
       "      <td>Crime Against Property</td>\n",
       "      <td>78041</td>\n",
       "      <td>0.385731</td>\n",
       "    </tr>\n",
       "    <tr>\n",
       "      <th>2</th>\n",
       "      <td>Crime Against Person</td>\n",
       "      <td>17466</td>\n",
       "      <td>0.086329</td>\n",
       "    </tr>\n",
       "    <tr>\n",
       "      <th>3</th>\n",
       "      <td>Other</td>\n",
       "      <td>62634</td>\n",
       "      <td>0.309579</td>\n",
       "    </tr>\n",
       "    <tr>\n",
       "      <th>4</th>\n",
       "      <td>Not a Crime</td>\n",
       "      <td>3575</td>\n",
       "      <td>0.017670</td>\n",
       "    </tr>\n",
       "  </tbody>\n",
       "</table>\n",
       "</div>"
      ],
      "text/plain": [
       "               Crime Type  Count  Percentage\n",
       "0   Crime Against Society  40604    0.200692\n",
       "1  Crime Against Property  78041    0.385731\n",
       "2    Crime Against Person  17466    0.086329\n",
       "3                   Other  62634    0.309579\n",
       "4             Not a Crime   3575    0.017670"
      ]
     },
     "execution_count": 5,
     "metadata": {},
     "output_type": "execute_result"
    }
   ],
   "source": [
    "a = len(data[data['Crime Name1']=='Crime Against Society'])\n",
    "b = len(data[data['Crime Name1']=='Crime Against Property'])\n",
    "c = len(data[data['Crime Name1']=='Crime Against Person'])\n",
    "d = len(data[data['Crime Name1']=='Other'])\n",
    "e = len(data[data['Crime Name1']=='Not a Crime'])\n",
    "f = len(data['Crime Name1'])\n",
    "import pandas as pd\n",
    "\n",
    "#initialize list of crimes\n",
    "data1 = [['Crime Against Society', a, a/f], ['Crime Against Property', b, b/f], ['Crime Against Person', c, c/f], \n",
    "         ['Other', d, d/f], ['Not a Crime', e, e/f]]\n",
    "\n",
    "#Create a panda dataframe\n",
    "df = pd.DataFrame(data1, columns = ['Crime Type', 'Count', 'Percentage'])\n",
    "\n",
    "#Print dataframe\n",
    "df"
   ]
  },
  {
   "cell_type": "code",
   "execution_count": 6,
   "id": "35474ae3",
   "metadata": {},
   "outputs": [
    {
     "data": {
      "text/plain": [
       "0    149632\n",
       "1     52688\n",
       "Name: IsSeriousCrime, dtype: int64"
      ]
     },
     "execution_count": 6,
     "metadata": {},
     "output_type": "execute_result"
    }
   ],
   "source": [
    "data['IsSeriousCrime'].value_counts()"
   ]
  },
  {
   "cell_type": "code",
   "execution_count": 7,
   "id": "13024c09",
   "metadata": {},
   "outputs": [
    {
     "data": {
      "image/png": "[encoded data removed]",
      "text/plain": [
       "<Figure size 432x288 with 1 Axes>"
      ]
     },
     "metadata": {},
     "output_type": "display_data"
    },
    {
     "data": {
      "text/plain": [
       "<Figure size 432x288 with 0 Axes>"
      ]
     },
     "metadata": {},
     "output_type": "display_data"
    }
   ],
   "source": [
    "sns.countplot(x='IsSeriousCrime', data=data, palette='hls')\n",
    "plt.show()\n",
    "plt.savefig('count_plot')"
   ]
  },
  {
   "cell_type": "code",
   "execution_count": 8,
   "id": "307362a1",
   "metadata": {},
   "outputs": [
    {
     "name": "stdout",
     "output_type": "stream",
     "text": [
      "Percentage of serious Crime is:  0.2604191379992092\n",
      "Percentage of not serious Crime is:  0.7395808620007909\n"
     ]
    }
   ],
   "source": [
    "count_serious = len(data[data['IsSeriousCrime']==1])\n",
    "count_notseriuos = len(data[data['IsSeriousCrime']==0])\n",
    "pct_of_serious = count_serious/(count_notseriuos+count_serious)\n",
    "print(\"Percentage of serious Crime is: \", pct_of_serious)\n",
    "pct_of_notserious = count_notseriuos/(count_notseriuos+count_serious)\n",
    "print(\"Percentage of not serious Crime is: \", pct_of_notserious)"
   ]
  },
  {
   "cell_type": "code",
   "execution_count": 9,
   "id": "7bf20d25",
   "metadata": {},
   "outputs": [
    {
     "data": {
      "text/html": [
       "<div>\n",
       "<style scoped>\n",
       "    .dataframe tbody tr th:only-of-type {\n",
       "        vertical-align: middle;\n",
       "    }\n",
       "\n",
       "    .dataframe tbody tr th {\n",
       "        vertical-align: top;\n",
       "    }\n",
       "\n",
       "    .dataframe thead th {\n",
       "        text-align: right;\n",
       "    }\n",
       "</style>\n",
       "<table border=\"1\" class=\"dataframe\">\n",
       "  <thead>\n",
       "    <tr style=\"text-align: right;\">\n",
       "      <th></th>\n",
       "      <th>Incident ID</th>\n",
       "      <th>Offence Code</th>\n",
       "      <th>CR Number</th>\n",
       "      <th>Victims</th>\n",
       "      <th>Zip Code</th>\n",
       "      <th>PRA</th>\n",
       "      <th>Address Number</th>\n",
       "      <th>Latitude</th>\n",
       "      <th>Longitude</th>\n",
       "    </tr>\n",
       "    <tr>\n",
       "      <th>IsSeriousCrime</th>\n",
       "      <th></th>\n",
       "      <th></th>\n",
       "      <th></th>\n",
       "      <th></th>\n",
       "      <th></th>\n",
       "      <th></th>\n",
       "      <th></th>\n",
       "      <th></th>\n",
       "      <th></th>\n",
       "    </tr>\n",
       "  </thead>\n",
       "  <tbody>\n",
       "    <tr>\n",
       "      <th>0</th>\n",
       "      <td>2.012293e+08</td>\n",
       "      <td>5632.053285</td>\n",
       "      <td>1.606086e+08</td>\n",
       "      <td>1.005066</td>\n",
       "      <td>20874.509580</td>\n",
       "      <td>367.295408</td>\n",
       "      <td>8232.493943</td>\n",
       "      <td>38.038374</td>\n",
       "      <td>-75.059298</td>\n",
       "    </tr>\n",
       "    <tr>\n",
       "      <th>1</th>\n",
       "      <td>2.012061e+08</td>\n",
       "      <td>3120.601921</td>\n",
       "      <td>1.458676e+08</td>\n",
       "      <td>1.065442</td>\n",
       "      <td>20879.173727</td>\n",
       "      <td>377.463374</td>\n",
       "      <td>8682.226631</td>\n",
       "      <td>36.853267</td>\n",
       "      <td>-72.708739</td>\n",
       "    </tr>\n",
       "  </tbody>\n",
       "</table>\n",
       "</div>"
      ],
      "text/plain": [
       "                 Incident ID  Offence Code     CR Number   Victims  \\\n",
       "IsSeriousCrime                                                       \n",
       "0               2.012293e+08   5632.053285  1.606086e+08  1.005066   \n",
       "1               2.012061e+08   3120.601921  1.458676e+08  1.065442   \n",
       "\n",
       "                    Zip Code         PRA  Address Number   Latitude  Longitude  \n",
       "IsSeriousCrime                                                                  \n",
       "0               20874.509580  367.295408     8232.493943  38.038374 -75.059298  \n",
       "1               20879.173727  377.463374     8682.226631  36.853267 -72.708739  "
      ]
     },
     "execution_count": 9,
     "metadata": {},
     "output_type": "execute_result"
    }
   ],
   "source": [
    "data.groupby('IsSeriousCrime').mean()"
   ]
  },
  {
   "cell_type": "code",
   "execution_count": 10,
   "id": "54ae074e",
   "metadata": {},
   "outputs": [
    {
     "data": {
      "text/html": [
       "<div>\n",
       "<style scoped>\n",
       "    .dataframe tbody tr th:only-of-type {\n",
       "        vertical-align: middle;\n",
       "    }\n",
       "\n",
       "    .dataframe tbody tr th {\n",
       "        vertical-align: top;\n",
       "    }\n",
       "\n",
       "    .dataframe thead th {\n",
       "        text-align: right;\n",
       "    }\n",
       "</style>\n",
       "<table border=\"1\" class=\"dataframe\">\n",
       "  <thead>\n",
       "    <tr style=\"text-align: right;\">\n",
       "      <th></th>\n",
       "      <th>Incident ID</th>\n",
       "      <th>Offence Code</th>\n",
       "      <th>CR Number</th>\n",
       "      <th>Victims</th>\n",
       "      <th>Zip Code</th>\n",
       "      <th>PRA</th>\n",
       "      <th>Address Number</th>\n",
       "      <th>Latitude</th>\n",
       "      <th>Longitude</th>\n",
       "      <th>IsSeriousCrime</th>\n",
       "    </tr>\n",
       "    <tr>\n",
       "      <th>Crime Name1</th>\n",
       "      <th></th>\n",
       "      <th></th>\n",
       "      <th></th>\n",
       "      <th></th>\n",
       "      <th></th>\n",
       "      <th></th>\n",
       "      <th></th>\n",
       "      <th></th>\n",
       "      <th></th>\n",
       "      <th></th>\n",
       "    </tr>\n",
       "  </thead>\n",
       "  <tbody>\n",
       "    <tr>\n",
       "      <th>Crime Against Person</th>\n",
       "      <td>2.012335e+08</td>\n",
       "      <td>1539.596702</td>\n",
       "      <td>1.594634e+08</td>\n",
       "      <td>1.204168</td>\n",
       "      <td>20878.804418</td>\n",
       "      <td>386.892495</td>\n",
       "      <td>8755.001971</td>\n",
       "      <td>37.717809</td>\n",
       "      <td>-74.411588</td>\n",
       "      <td>0.931925</td>\n",
       "    </tr>\n",
       "    <tr>\n",
       "      <th>Crime Against Property</th>\n",
       "      <td>2.012243e+08</td>\n",
       "      <td>2427.535488</td>\n",
       "      <td>1.535880e+08</td>\n",
       "      <td>1.000000</td>\n",
       "      <td>20872.968919</td>\n",
       "      <td>362.402550</td>\n",
       "      <td>8417.983870</td>\n",
       "      <td>37.824593</td>\n",
       "      <td>-74.639688</td>\n",
       "      <td>0.143591</td>\n",
       "    </tr>\n",
       "    <tr>\n",
       "      <th>Crime Against Society</th>\n",
       "      <td>2.011854e+08</td>\n",
       "      <td>4608.139444</td>\n",
       "      <td>1.361946e+08</td>\n",
       "      <td>1.000000</td>\n",
       "      <td>20882.167267</td>\n",
       "      <td>366.276459</td>\n",
       "      <td>8486.740458</td>\n",
       "      <td>36.760607</td>\n",
       "      <td>-72.533614</td>\n",
       "      <td>0.620752</td>\n",
       "    </tr>\n",
       "    <tr>\n",
       "      <th>Not a Crime</th>\n",
       "      <td>2.012335e+08</td>\n",
       "      <td>9021.000000</td>\n",
       "      <td>1.665106e+08</td>\n",
       "      <td>1.000559</td>\n",
       "      <td>20879.335306</td>\n",
       "      <td>392.129303</td>\n",
       "      <td>8781.221413</td>\n",
       "      <td>38.569649</td>\n",
       "      <td>-76.084934</td>\n",
       "      <td>0.000000</td>\n",
       "    </tr>\n",
       "    <tr>\n",
       "      <th>Other</th>\n",
       "      <td>2.012430e+08</td>\n",
       "      <td>9123.859130</td>\n",
       "      <td>1.727655e+08</td>\n",
       "      <td>1.010186</td>\n",
       "      <td>20873.921043</td>\n",
       "      <td>375.727943</td>\n",
       "      <td>8011.573434</td>\n",
       "      <td>38.195235</td>\n",
       "      <td>-75.364237</td>\n",
       "      <td>0.000000</td>\n",
       "    </tr>\n",
       "  </tbody>\n",
       "</table>\n",
       "</div>"
      ],
      "text/plain": [
       "                         Incident ID  Offence Code     CR Number   Victims  \\\n",
       "Crime Name1                                                                  \n",
       "Crime Against Person    2.012335e+08   1539.596702  1.594634e+08  1.204168   \n",
       "Crime Against Property  2.012243e+08   2427.535488  1.535880e+08  1.000000   \n",
       "Crime Against Society   2.011854e+08   4608.139444  1.361946e+08  1.000000   \n",
       "Not a Crime             2.012335e+08   9021.000000  1.665106e+08  1.000559   \n",
       "Other                   2.012430e+08   9123.859130  1.727655e+08  1.010186   \n",
       "\n",
       "                            Zip Code         PRA  Address Number   Latitude  \\\n",
       "Crime Name1                                                                   \n",
       "Crime Against Person    20878.804418  386.892495     8755.001971  37.717809   \n",
       "Crime Against Property  20872.968919  362.402550     8417.983870  37.824593   \n",
       "Crime Against Society   20882.167267  366.276459     8486.740458  36.760607   \n",
       "Not a Crime             20879.335306  392.129303     8781.221413  38.569649   \n",
       "Other                   20873.921043  375.727943     8011.573434  38.195235   \n",
       "\n",
       "                        Longitude  IsSeriousCrime  \n",
       "Crime Name1                                        \n",
       "Crime Against Person   -74.411588        0.931925  \n",
       "Crime Against Property -74.639688        0.143591  \n",
       "Crime Against Society  -72.533614        0.620752  \n",
       "Not a Crime            -76.084934        0.000000  \n",
       "Other                  -75.364237        0.000000  "
      ]
     },
     "execution_count": 10,
     "metadata": {},
     "output_type": "execute_result"
    }
   ],
   "source": [
    "data.groupby('Crime Name1').mean()"
   ]
  },
  {
   "cell_type": "code",
   "execution_count": 11,
   "id": "42dee870",
   "metadata": {},
   "outputs": [
    {
     "data": {
      "text/plain": [
       "<AxesSubplot:xlabel='IsSeriousCrime', ylabel='count'>"
      ]
     },
     "execution_count": 11,
     "metadata": {},
     "output_type": "execute_result"
    },
    {
     "data": {
      "image/png": "[encoded data removed]",
      "text/plain": [
       "<Figure size 432x288 with 1 Axes>"
      ]
     },
     "metadata": {},
     "output_type": "display_data"
    }
   ],
   "source": [
    "sns.countplot(data=data, x='IsSeriousCrime', hue='Crime Name1')"
   ]
  },
  {
   "cell_type": "code",
   "execution_count": 12,
   "id": "d2a7d2ec",
   "metadata": {},
   "outputs": [
    {
     "data": {
      "text/html": [
       "<div>\n",
       "<style scoped>\n",
       "    .dataframe tbody tr th:only-of-type {\n",
       "        vertical-align: middle;\n",
       "    }\n",
       "\n",
       "    .dataframe tbody tr th {\n",
       "        vertical-align: top;\n",
       "    }\n",
       "\n",
       "    .dataframe thead th {\n",
       "        text-align: right;\n",
       "    }\n",
       "</style>\n",
       "<table border=\"1\" class=\"dataframe\">\n",
       "  <thead>\n",
       "    <tr style=\"text-align: right;\">\n",
       "      <th>IsSeriousCrime</th>\n",
       "      <th>0</th>\n",
       "      <th>1</th>\n",
       "    </tr>\n",
       "    <tr>\n",
       "      <th>Crime Name1</th>\n",
       "      <th></th>\n",
       "      <th></th>\n",
       "    </tr>\n",
       "  </thead>\n",
       "  <tbody>\n",
       "    <tr>\n",
       "      <th>Crime Against Person</th>\n",
       "      <td>1189.0</td>\n",
       "      <td>16277.0</td>\n",
       "    </tr>\n",
       "    <tr>\n",
       "      <th>Crime Against Property</th>\n",
       "      <td>66835.0</td>\n",
       "      <td>11206.0</td>\n",
       "    </tr>\n",
       "    <tr>\n",
       "      <th>Crime Against Society</th>\n",
       "      <td>15399.0</td>\n",
       "      <td>25205.0</td>\n",
       "    </tr>\n",
       "    <tr>\n",
       "      <th>Not a Crime</th>\n",
       "      <td>3575.0</td>\n",
       "      <td>NaN</td>\n",
       "    </tr>\n",
       "    <tr>\n",
       "      <th>Other</th>\n",
       "      <td>62634.0</td>\n",
       "      <td>NaN</td>\n",
       "    </tr>\n",
       "  </tbody>\n",
       "</table>\n",
       "</div>"
      ],
      "text/plain": [
       "IsSeriousCrime                0        1\n",
       "Crime Name1                             \n",
       "Crime Against Person     1189.0  16277.0\n",
       "Crime Against Property  66835.0  11206.0\n",
       "Crime Against Society   15399.0  25205.0\n",
       "Not a Crime              3575.0      NaN\n",
       "Other                   62634.0      NaN"
      ]
     },
     "execution_count": 12,
     "metadata": {},
     "output_type": "execute_result"
    }
   ],
   "source": [
    "data.groupby('Crime Name1')['IsSeriousCrime'].value_counts().unstack()"
   ]
  },
  {
   "cell_type": "code",
   "execution_count": 13,
   "id": "0dcc1e99",
   "metadata": {},
   "outputs": [
    {
     "data": {
      "text/plain": [
       "<AxesSubplot:xlabel='Crime Name1'>"
      ]
     },
     "execution_count": 13,
     "metadata": {},
     "output_type": "execute_result"
    },
    {
     "data": {
      "image/png": "[encoded data removed]",
      "text/plain": [
       "<Figure size 432x288 with 1 Axes>"
      ]
     },
     "metadata": {},
     "output_type": "display_data"
    }
   ],
   "source": [
    "data.groupby('Crime Name1')['IsSeriousCrime'].value_counts().unstack().plot.bar()"
   ]
  },
  {
   "cell_type": "code",
   "execution_count": 14,
   "id": "8693805e",
   "metadata": {},
   "outputs": [
    {
     "data": {
      "text/plain": [
       "Crime Name1\n",
       "Crime Against Person      0.931925\n",
       "Crime Against Society     0.620752\n",
       "Crime Against Property    0.143591\n",
       "Not a Crime               0.000000\n",
       "Other                     0.000000\n",
       "Name: IsSeriousCrime, dtype: float64"
      ]
     },
     "execution_count": 14,
     "metadata": {},
     "output_type": "execute_result"
    }
   ],
   "source": [
    "data.groupby('Crime Name1')['IsSeriousCrime'].mean().sort_values(ascending=False)"
   ]
  },
  {
   "cell_type": "code",
   "execution_count": 15,
   "id": "830e6d5f",
   "metadata": {},
   "outputs": [],
   "source": [
    "#Create dummy variables\n",
    "cat_vars = ['Crime Name1']\n",
    "for var in cat_vars:\n",
    "    cat_list = 'var'+'_'+var\n",
    "    cat_list = pd.get_dummies(data[var], prefix=var)\n",
    "    data1 = data.join(cat_list)\n",
    "    data = data1\n",
    "    \n",
    "cat_vars=['Crime Name1']\n",
    "data_vars = data.columns.values.tolist()\n",
    "to_keep = [i for i in data_vars if i not in cat_vars]"
   ]
  },
  {
   "cell_type": "code",
   "execution_count": 16,
   "id": "987a6622",
   "metadata": {},
   "outputs": [
    {
     "data": {
      "text/html": [
       "<div>\n",
       "<style scoped>\n",
       "    .dataframe tbody tr th:only-of-type {\n",
       "        vertical-align: middle;\n",
       "    }\n",
       "\n",
       "    .dataframe tbody tr th {\n",
       "        vertical-align: top;\n",
       "    }\n",
       "\n",
       "    .dataframe thead th {\n",
       "        text-align: right;\n",
       "    }\n",
       "</style>\n",
       "<table border=\"1\" class=\"dataframe\">\n",
       "  <thead>\n",
       "    <tr style=\"text-align: right;\">\n",
       "      <th></th>\n",
       "      <th>Incident ID</th>\n",
       "      <th>Offence Code</th>\n",
       "      <th>CR Number</th>\n",
       "      <th>Victims</th>\n",
       "      <th>Zip Code</th>\n",
       "      <th>PRA</th>\n",
       "      <th>Latitude</th>\n",
       "      <th>Longitude</th>\n",
       "      <th>IsSeriousCrime</th>\n",
       "      <th>Crime Name1_Crime Against Person</th>\n",
       "      <th>Crime Name1_Crime Against Property</th>\n",
       "      <th>Crime Name1_Crime Against Society</th>\n",
       "      <th>Crime Name1_Not a Crime</th>\n",
       "      <th>Crime Name1_Other</th>\n",
       "    </tr>\n",
       "  </thead>\n",
       "  <tbody>\n",
       "    <tr>\n",
       "      <th>0</th>\n",
       "      <td>201202980</td>\n",
       "      <td>3550.0</td>\n",
       "      <td>180042096</td>\n",
       "      <td>1</td>\n",
       "      <td>20874.0</td>\n",
       "      <td>447.0</td>\n",
       "      <td>39.177744</td>\n",
       "      <td>-77.265619</td>\n",
       "      <td>1</td>\n",
       "      <td>0</td>\n",
       "      <td>0</td>\n",
       "      <td>1</td>\n",
       "      <td>0</td>\n",
       "      <td>0</td>\n",
       "    </tr>\n",
       "    <tr>\n",
       "      <th>1</th>\n",
       "      <td>201181293</td>\n",
       "      <td>3522.0</td>\n",
       "      <td>180015424</td>\n",
       "      <td>1</td>\n",
       "      <td>20814.0</td>\n",
       "      <td>54.0</td>\n",
       "      <td>38.992693</td>\n",
       "      <td>-77.097063</td>\n",
       "      <td>1</td>\n",
       "      <td>0</td>\n",
       "      <td>0</td>\n",
       "      <td>1</td>\n",
       "      <td>0</td>\n",
       "      <td>0</td>\n",
       "    </tr>\n",
       "    <tr>\n",
       "      <th>2</th>\n",
       "      <td>201181293</td>\n",
       "      <td>3562.0</td>\n",
       "      <td>180015424</td>\n",
       "      <td>1</td>\n",
       "      <td>20814.0</td>\n",
       "      <td>54.0</td>\n",
       "      <td>38.992693</td>\n",
       "      <td>-77.097063</td>\n",
       "      <td>1</td>\n",
       "      <td>0</td>\n",
       "      <td>0</td>\n",
       "      <td>1</td>\n",
       "      <td>0</td>\n",
       "      <td>0</td>\n",
       "    </tr>\n",
       "    <tr>\n",
       "      <th>3</th>\n",
       "      <td>201193163</td>\n",
       "      <td>3520.0</td>\n",
       "      <td>180029476</td>\n",
       "      <td>1</td>\n",
       "      <td>20878.0</td>\n",
       "      <td>445.0</td>\n",
       "      <td>39.147954</td>\n",
       "      <td>-77.218189</td>\n",
       "      <td>1</td>\n",
       "      <td>0</td>\n",
       "      <td>0</td>\n",
       "      <td>1</td>\n",
       "      <td>0</td>\n",
       "      <td>0</td>\n",
       "    </tr>\n",
       "    <tr>\n",
       "      <th>4</th>\n",
       "      <td>201204355</td>\n",
       "      <td>2204.0</td>\n",
       "      <td>180043926</td>\n",
       "      <td>1</td>\n",
       "      <td>20815.0</td>\n",
       "      <td>17.0</td>\n",
       "      <td>38.966174</td>\n",
       "      <td>-77.096561</td>\n",
       "      <td>0</td>\n",
       "      <td>0</td>\n",
       "      <td>1</td>\n",
       "      <td>0</td>\n",
       "      <td>0</td>\n",
       "      <td>0</td>\n",
       "    </tr>\n",
       "    <tr>\n",
       "      <th>...</th>\n",
       "      <td>...</td>\n",
       "      <td>...</td>\n",
       "      <td>...</td>\n",
       "      <td>...</td>\n",
       "      <td>...</td>\n",
       "      <td>...</td>\n",
       "      <td>...</td>\n",
       "      <td>...</td>\n",
       "      <td>...</td>\n",
       "      <td>...</td>\n",
       "      <td>...</td>\n",
       "      <td>...</td>\n",
       "      <td>...</td>\n",
       "      <td>...</td>\n",
       "    </tr>\n",
       "    <tr>\n",
       "      <th>202315</th>\n",
       "      <td>201201247</td>\n",
       "      <td>2901.0</td>\n",
       "      <td>180039929</td>\n",
       "      <td>1</td>\n",
       "      <td>20853.0</td>\n",
       "      <td>340.0</td>\n",
       "      <td>39.084805</td>\n",
       "      <td>-77.098833</td>\n",
       "      <td>1</td>\n",
       "      <td>0</td>\n",
       "      <td>1</td>\n",
       "      <td>0</td>\n",
       "      <td>0</td>\n",
       "      <td>0</td>\n",
       "    </tr>\n",
       "    <tr>\n",
       "      <th>202316</th>\n",
       "      <td>201194674</td>\n",
       "      <td>3562.0</td>\n",
       "      <td>180031899</td>\n",
       "      <td>1</td>\n",
       "      <td>20910.0</td>\n",
       "      <td>107.0</td>\n",
       "      <td>38.999677</td>\n",
       "      <td>-77.027913</td>\n",
       "      <td>1</td>\n",
       "      <td>0</td>\n",
       "      <td>0</td>\n",
       "      <td>1</td>\n",
       "      <td>0</td>\n",
       "      <td>0</td>\n",
       "    </tr>\n",
       "    <tr>\n",
       "      <th>202317</th>\n",
       "      <td>201197878</td>\n",
       "      <td>2404.0</td>\n",
       "      <td>180035758</td>\n",
       "      <td>1</td>\n",
       "      <td>20904.0</td>\n",
       "      <td>378.0</td>\n",
       "      <td>39.081051</td>\n",
       "      <td>-76.946369</td>\n",
       "      <td>0</td>\n",
       "      <td>0</td>\n",
       "      <td>1</td>\n",
       "      <td>0</td>\n",
       "      <td>0</td>\n",
       "      <td>0</td>\n",
       "    </tr>\n",
       "    <tr>\n",
       "      <th>202318</th>\n",
       "      <td>201198555</td>\n",
       "      <td>1306.0</td>\n",
       "      <td>180036742</td>\n",
       "      <td>1</td>\n",
       "      <td>20876.0</td>\n",
       "      <td>474.0</td>\n",
       "      <td>39.202370</td>\n",
       "      <td>-77.257200</td>\n",
       "      <td>1</td>\n",
       "      <td>1</td>\n",
       "      <td>0</td>\n",
       "      <td>0</td>\n",
       "      <td>0</td>\n",
       "      <td>0</td>\n",
       "    </tr>\n",
       "    <tr>\n",
       "      <th>202319</th>\n",
       "      <td>201191403</td>\n",
       "      <td>1399.0</td>\n",
       "      <td>180027963</td>\n",
       "      <td>2</td>\n",
       "      <td>20886.0</td>\n",
       "      <td>546.0</td>\n",
       "      <td>39.169704</td>\n",
       "      <td>-77.204393</td>\n",
       "      <td>1</td>\n",
       "      <td>1</td>\n",
       "      <td>0</td>\n",
       "      <td>0</td>\n",
       "      <td>0</td>\n",
       "      <td>0</td>\n",
       "    </tr>\n",
       "  </tbody>\n",
       "</table>\n",
       "<p>198941 rows × 14 columns</p>\n",
       "</div>"
      ],
      "text/plain": [
       "        Incident ID  Offence Code  CR Number  Victims  Zip Code    PRA  \\\n",
       "0         201202980        3550.0  180042096        1   20874.0  447.0   \n",
       "1         201181293        3522.0  180015424        1   20814.0   54.0   \n",
       "2         201181293        3562.0  180015424        1   20814.0   54.0   \n",
       "3         201193163        3520.0  180029476        1   20878.0  445.0   \n",
       "4         201204355        2204.0  180043926        1   20815.0   17.0   \n",
       "...             ...           ...        ...      ...       ...    ...   \n",
       "202315    201201247        2901.0  180039929        1   20853.0  340.0   \n",
       "202316    201194674        3562.0  180031899        1   20910.0  107.0   \n",
       "202317    201197878        2404.0  180035758        1   20904.0  378.0   \n",
       "202318    201198555        1306.0  180036742        1   20876.0  474.0   \n",
       "202319    201191403        1399.0  180027963        2   20886.0  546.0   \n",
       "\n",
       "         Latitude  Longitude  IsSeriousCrime  \\\n",
       "0       39.177744 -77.265619               1   \n",
       "1       38.992693 -77.097063               1   \n",
       "2       38.992693 -77.097063               1   \n",
       "3       39.147954 -77.218189               1   \n",
       "4       38.966174 -77.096561               0   \n",
       "...           ...        ...             ...   \n",
       "202315  39.084805 -77.098833               1   \n",
       "202316  38.999677 -77.027913               1   \n",
       "202317  39.081051 -76.946369               0   \n",
       "202318  39.202370 -77.257200               1   \n",
       "202319  39.169704 -77.204393               1   \n",
       "\n",
       "        Crime Name1_Crime Against Person  Crime Name1_Crime Against Property  \\\n",
       "0                                      0                                   0   \n",
       "1                                      0                                   0   \n",
       "2                                      0                                   0   \n",
       "3                                      0                                   0   \n",
       "4                                      0                                   1   \n",
       "...                                  ...                                 ...   \n",
       "202315                                 0                                   1   \n",
       "202316                                 0                                   0   \n",
       "202317                                 0                                   1   \n",
       "202318                                 1                                   0   \n",
       "202319                                 1                                   0   \n",
       "\n",
       "        Crime Name1_Crime Against Society  Crime Name1_Not a Crime  \\\n",
       "0                                       1                        0   \n",
       "1                                       1                        0   \n",
       "2                                       1                        0   \n",
       "3                                       1                        0   \n",
       "4                                       0                        0   \n",
       "...                                   ...                      ...   \n",
       "202315                                  0                        0   \n",
       "202316                                  1                        0   \n",
       "202317                                  0                        0   \n",
       "202318                                  0                        0   \n",
       "202319                                  0                        0   \n",
       "\n",
       "        Crime Name1_Other  \n",
       "0                       0  \n",
       "1                       0  \n",
       "2                       0  \n",
       "3                       0  \n",
       "4                       0  \n",
       "...                   ...  \n",
       "202315                  0  \n",
       "202316                  0  \n",
       "202317                  0  \n",
       "202318                  0  \n",
       "202319                  0  \n",
       "\n",
       "[198941 rows x 14 columns]"
      ]
     },
     "execution_count": 16,
     "metadata": {},
     "output_type": "execute_result"
    }
   ],
   "source": [
    "data_final = data[to_keep]\n",
    "data_final.pop('Start_Date_Time')\n",
    "data_final.pop('End_Date_Time')\n",
    "data_final.pop('Dispatch Date / Time')\n",
    "data_final.pop('NIBRS Code')\n",
    "data_final.pop('Crime Name2')\n",
    "data_final.pop('Crime Name3')\n",
    "data_final.pop('Police District Name')\n",
    "data_final.pop('City')\n",
    "data_final.pop('State')\n",
    "data_final.pop('Agency')\n",
    "data_final.pop('Place')\n",
    "data_final.pop('Sector')\n",
    "data_final.pop('Beat')\n",
    "data_final.pop('Street Suffix')\n",
    "data_final.pop('Street Type')\n",
    "data_final.pop('Address Number')\n",
    "data_final.pop('Street Prefix')\n",
    "data_final.pop('Street Name')\n",
    "data_final.pop('Police District Number')\n",
    "data_final.pop('Location')\n",
    "np.any(np.isnan(data_final))\n",
    "np.all(np.isfinite(data_final))\n",
    "df = data_final[np.isfinite(data_final).all(1)]\n",
    "df"
   ]
  },
  {
   "cell_type": "code",
   "execution_count": 17,
   "id": "af463c11",
   "metadata": {},
   "outputs": [
    {
     "name": "stdout",
     "output_type": "stream",
     "text": [
      "Length of oversampled data is:  197248\n",
      "Number of serious crime in oversampled data is:  98624\n",
      "Number of not serious crime in oversampled data is:  98624\n",
      "Proportion of serious data in oversampled data is:  0.5\n",
      "Proportion of not serious data in oversampled data is:  0.5\n"
     ]
    }
   ],
   "source": [
    "# Over-Sampling using SMOTE\n",
    "X = df.loc[:, df.columns != 'IsSeriousCrime']\n",
    "y = df.loc[:, df.columns == 'IsSeriousCrime']\n",
    "\n",
    "from imblearn.over_sampling import SMOTE\n",
    "os = SMOTE(random_state=42)\n",
    "X_train, X_test, y_train, y_test = train_test_split(X, y, test_size=0.33, random_state=42)\n",
    "columns = X_train.columns\n",
    "\n",
    "os_data_X,os_data_y=os.fit_resample(X_train, y_train)\n",
    "os_data_X = pd.DataFrame(data=os_data_X,columns=columns )\n",
    "os_data_y= pd.DataFrame(data=os_data_y,columns=['IsSeriousCrime'])\n",
    "\n",
    "# We can check the numbers of our data\n",
    "print(\"Length of oversampled data is: \", len(os_data_X))\n",
    "print(\"Number of serious crime in oversampled data is: \", len(os_data_y[os_data_y['IsSeriousCrime']==1]))\n",
    "print(\"Number of not serious crime in oversampled data is: \", len(os_data_y[os_data_y['IsSeriousCrime']==0]))\n",
    "print(\"Proportion of serious data in oversampled data is: \", len(os_data_y[os_data_y['IsSeriousCrime']==1])/len(os_data_X))\n",
    "print(\"Proportion of not serious data in oversampled data is: \", len(os_data_y[os_data_y['IsSeriousCrime']==0])/len(os_data_X))"
   ]
  },
  {
   "cell_type": "code",
   "execution_count": 18,
   "id": "3586b9a2",
   "metadata": {},
   "outputs": [
    {
     "name": "stdout",
     "output_type": "stream",
     "text": [
      "[False  True  True False  True False False False  True  True  True False\n",
      " False]\n",
      "[3 1 1 8 1 4 5 2 1 1 1 7 6]\n"
     ]
    }
   ],
   "source": [
    "# Recursive Feature Elimination\n",
    "df_vars = df.columns.values.tolist()\n",
    "y = ['Crime Name1']\n",
    "X = [i for i in df_vars if i not in y]\n",
    "\n",
    "from sklearn.feature_selection import RFE\n",
    "from sklearn.tree import DecisionTreeClassifier\n",
    "\n",
    "dtmodel = DecisionTreeClassifier(random_state=42)\n",
    "rfe = RFE(dtmodel)\n",
    "rfe = rfe.fit(os_data_X, os_data_y.values.ravel())\n",
    "print(rfe.support_)\n",
    "print(rfe.ranking_)"
   ]
  },
  {
   "cell_type": "code",
   "execution_count": 19,
   "id": "8ec32a3b",
   "metadata": {},
   "outputs": [
    {
     "data": {
      "text/html": [
       "<div>\n",
       "<style scoped>\n",
       "    .dataframe tbody tr th:only-of-type {\n",
       "        vertical-align: middle;\n",
       "    }\n",
       "\n",
       "    .dataframe tbody tr th {\n",
       "        vertical-align: top;\n",
       "    }\n",
       "\n",
       "    .dataframe thead th {\n",
       "        text-align: right;\n",
       "    }\n",
       "</style>\n",
       "<table border=\"1\" class=\"dataframe\">\n",
       "  <thead>\n",
       "    <tr style=\"text-align: right;\">\n",
       "      <th></th>\n",
       "      <th>Feature</th>\n",
       "      <th>Importance</th>\n",
       "    </tr>\n",
       "  </thead>\n",
       "  <tbody>\n",
       "    <tr>\n",
       "      <th>1</th>\n",
       "      <td>Offence Code</td>\n",
       "      <td>1</td>\n",
       "    </tr>\n",
       "    <tr>\n",
       "      <th>2</th>\n",
       "      <td>CR Number</td>\n",
       "      <td>1</td>\n",
       "    </tr>\n",
       "    <tr>\n",
       "      <th>4</th>\n",
       "      <td>Zip Code</td>\n",
       "      <td>1</td>\n",
       "    </tr>\n",
       "    <tr>\n",
       "      <th>8</th>\n",
       "      <td>Crime Name1_Crime Against Person</td>\n",
       "      <td>1</td>\n",
       "    </tr>\n",
       "    <tr>\n",
       "      <th>9</th>\n",
       "      <td>Crime Name1_Crime Against Property</td>\n",
       "      <td>1</td>\n",
       "    </tr>\n",
       "    <tr>\n",
       "      <th>10</th>\n",
       "      <td>Crime Name1_Crime Against Society</td>\n",
       "      <td>1</td>\n",
       "    </tr>\n",
       "    <tr>\n",
       "      <th>7</th>\n",
       "      <td>Longitude</td>\n",
       "      <td>2</td>\n",
       "    </tr>\n",
       "    <tr>\n",
       "      <th>0</th>\n",
       "      <td>Incident ID</td>\n",
       "      <td>3</td>\n",
       "    </tr>\n",
       "    <tr>\n",
       "      <th>5</th>\n",
       "      <td>PRA</td>\n",
       "      <td>4</td>\n",
       "    </tr>\n",
       "    <tr>\n",
       "      <th>6</th>\n",
       "      <td>Latitude</td>\n",
       "      <td>5</td>\n",
       "    </tr>\n",
       "    <tr>\n",
       "      <th>12</th>\n",
       "      <td>Crime Name1_Other</td>\n",
       "      <td>6</td>\n",
       "    </tr>\n",
       "    <tr>\n",
       "      <th>11</th>\n",
       "      <td>Crime Name1_Not a Crime</td>\n",
       "      <td>7</td>\n",
       "    </tr>\n",
       "    <tr>\n",
       "      <th>3</th>\n",
       "      <td>Victims</td>\n",
       "      <td>8</td>\n",
       "    </tr>\n",
       "  </tbody>\n",
       "</table>\n",
       "</div>"
      ],
      "text/plain": [
       "                               Feature  Importance\n",
       "1                         Offence Code           1\n",
       "2                            CR Number           1\n",
       "4                             Zip Code           1\n",
       "8     Crime Name1_Crime Against Person           1\n",
       "9   Crime Name1_Crime Against Property           1\n",
       "10   Crime Name1_Crime Against Society           1\n",
       "7                            Longitude           2\n",
       "0                          Incident ID           3\n",
       "5                                  PRA           4\n",
       "6                             Latitude           5\n",
       "12                   Crime Name1_Other           6\n",
       "11             Crime Name1_Not a Crime           7\n",
       "3                              Victims           8"
      ]
     },
     "execution_count": 19,
     "metadata": {},
     "output_type": "execute_result"
    }
   ],
   "source": [
    "X = os_data_X\n",
    "y = os_data_y\n",
    "data_X2 = pd.DataFrame({\n",
    " 'Feature': X.columns,\n",
    " 'Importance': rfe.ranking_},)\n",
    "data_X2.sort_values(by=['Importance'])"
   ]
  },
  {
   "cell_type": "code",
   "execution_count": 20,
   "id": "8a78e363",
   "metadata": {},
   "outputs": [
    {
     "name": "stdout",
     "output_type": "stream",
     "text": [
      "['Offence Code', 'CR Number', 'Zip Code', 'Crime Name1_Crime Against Person', 'Crime Name1_Crime Against Property', 'Crime Name1_Crime Against Society']\n",
      "6\n"
     ]
    }
   ],
   "source": [
    "cols=[]\n",
    "for i in range (0, len(data_X2['Importance'])):\n",
    "    if data_X2['Importance'][i] == 1:\n",
    "        cols.append(data_X2['Feature'][i])\n",
    "print(cols)\n",
    "print(len(cols))"
   ]
  },
  {
   "cell_type": "code",
   "execution_count": 21,
   "id": "76256f48",
   "metadata": {},
   "outputs": [
    {
     "data": {
      "text/plain": [
       "DecisionTreeClassifier(random_state=42)"
      ]
     },
     "execution_count": 21,
     "metadata": {},
     "output_type": "execute_result"
    }
   ],
   "source": [
    "# Decision Tree Classifier Model fitting\n",
    "from sklearn.tree import DecisionTreeClassifier\n",
    "X_train, X_test, y_train, y_test = train_test_split(X, y, test_size=0.33, random_state=42)\n",
    "model = DecisionTreeClassifier(random_state=42)\n",
    "model.fit(X_train, y_train)"
   ]
  },
  {
   "cell_type": "code",
   "execution_count": 22,
   "id": "9f6c9e6a",
   "metadata": {},
   "outputs": [
    {
     "name": "stdout",
     "output_type": "stream",
     "text": [
      "Accuracy of Decision Tree Classifier on test set:  99.92%\n"
     ]
    }
   ],
   "source": [
    "from sklearn.metrics import accuracy_score\n",
    "y_pred = model.predict(X_test)\n",
    "print(\"Accuracy of Decision Tree Classifier on test set: \",\"{:.2%}\".format(accuracy_score(y_test, y_pred)))"
   ]
  },
  {
   "cell_type": "code",
   "execution_count": 23,
   "id": "89c4b059",
   "metadata": {},
   "outputs": [
    {
     "name": "stdout",
     "output_type": "stream",
     "text": [
      "[[32302    19]\n",
      " [   33 32738]]\n"
     ]
    }
   ],
   "source": [
    "from sklearn.metrics import confusion_matrix\n",
    "confusion_matrix = confusion_matrix(y_test, y_pred)\n",
    "print(confusion_matrix)"
   ]
  },
  {
   "cell_type": "code",
   "execution_count": 24,
   "id": "dd394162",
   "metadata": {},
   "outputs": [
    {
     "name": "stdout",
     "output_type": "stream",
     "text": [
      "The result is telling us that we have:  65040 correct predictions.\n",
      "The result is telling us that we have:  52 incorrect predictions.\n",
      "We have a total predictions of:  65092\n"
     ]
    }
   ],
   "source": [
    "print(\"The result is telling us that we have: \",(confusion_matrix[0,0]+confusion_matrix[1,1]),'correct predictions.')\n",
    "print(\"The result is telling us that we have: \",(confusion_matrix[0,1]+confusion_matrix[1,0]),'incorrect predictions.')\n",
    "print(\"We have a total predictions of: \",(confusion_matrix.sum()))"
   ]
  },
  {
   "cell_type": "code",
   "execution_count": 25,
   "id": "1f49edce",
   "metadata": {},
   "outputs": [
    {
     "name": "stdout",
     "output_type": "stream",
     "text": [
      "              precision    recall  f1-score   support\n",
      "\n",
      "           0       1.00      1.00      1.00     32321\n",
      "           1       1.00      1.00      1.00     32771\n",
      "\n",
      "    accuracy                           1.00     65092\n",
      "   macro avg       1.00      1.00      1.00     65092\n",
      "weighted avg       1.00      1.00      1.00     65092\n",
      "\n"
     ]
    }
   ],
   "source": [
    "# Compute precision, recall, F-measure and support\n",
    "from sklearn.metrics import classification_report\n",
    "print(classification_report(y_test, y_pred))"
   ]
  },
  {
   "cell_type": "code",
   "execution_count": 26,
   "id": "9386adc9",
   "metadata": {},
   "outputs": [
    {
     "data": {
      "image/png": "[encoded data removed]",
      "text/plain": [
       "<Figure size 432x288 with 1 Axes>"
      ]
     },
     "metadata": {},
     "output_type": "display_data"
    }
   ],
   "source": [
    "# ROC Curve\n",
    "from sklearn.metrics import roc_auc_score\n",
    "from sklearn.metrics import roc_curve\n",
    "model_roc_auc = roc_auc_score(y_test, model.predict(X_test))\n",
    "fpr, tpr, thresholds = roc_curve(y_test, model.predict_proba(X_test)[:,1])\n",
    "plt.figure()\n",
    "plt.plot(fpr, tpr, label='Decision Tree Classifier (area = %0.2f)' % model_roc_auc)\n",
    "plt.plot([0, 1], [0, 1],'r')\n",
    "plt.xlim([0.0, 1.0])\n",
    "plt.ylim([0.0, 1.05])\n",
    "plt.xlabel('False Positive Rate')\n",
    "plt.ylabel('True Positive Rate')\n",
    "plt.title('Receiver operating characteristic')\n",
    "plt.legend(loc='lower right')\n",
    "plt.savefig('DT_ROC')\n",
    "plt.show()"
   ]
  },
  {
   "cell_type": "code",
   "execution_count": 27,
   "id": "bca506ff",
   "metadata": {},
   "outputs": [
    {
     "name": "stdout",
     "output_type": "stream",
     "text": [
      "Feature importances:\n",
      "[3.02987026e-04 7.36348092e-01 1.17856288e-03 0.00000000e+00\n",
      " 5.14564856e-04 2.12275757e-04 9.33503684e-04 2.37227842e-04\n",
      " 5.61394301e-03 2.53905906e-01 6.10607700e-04 0.00000000e+00\n",
      " 1.42329837e-04]\n"
     ]
    }
   ],
   "source": [
    "# Features Importance\n",
    "serious_features = [x for i,x in enumerate(X.columns) if i!=len(X.columns)]\n",
    "print(\"Feature importances:\\n{}\".format(model.feature_importances_))"
   ]
  },
  {
   "cell_type": "code",
   "execution_count": 30,
   "id": "3ba737b1",
   "metadata": {},
   "outputs": [
    {
     "data": {
      "image/png": "[encoded data removed]",
      "text/plain": [
       "<Figure size 576x432 with 1 Axes>"
      ]
     },
     "metadata": {},
     "output_type": "display_data"
    }
   ],
   "source": [
    "# Feature Importance Visualization\n",
    "def plot_feature_importances_crime(model):\n",
    "    plt.figure(figsize=(8,6))\n",
    "    n_features = len(X.columns)\n",
    "    plt.barh(range(n_features), model.feature_importances_, align='center')\n",
    "    plt.yticks(np.arange(n_features), serious_features)\n",
    "    plt.xlabel(\"Feature importance\")\n",
    "    plt.ylabel(\"Feature\")\n",
    "    plt.ylim(-1, n_features)\n",
    " \n",
    "plot_feature_importances_crime(model)\n",
    "plt.savefig('feature_importance')"
   ]
  },
  {
   "cell_type": "code",
   "execution_count": null,
   "id": "17e554ec",
   "metadata": {},
   "outputs": [],
   "source": []
  }
 ],
 "metadata": {
  "kernelspec": {
   "display_name": "Python 3 (ipykernel)",
   "language": "python",
   "name": "python3"
  },
  "language_info": {
   "codemirror_mode": {
    "name": "ipython",
    "version": 3
   },
   "file_extension": ".py",
   "mimetype": "text/x-python",
   "name": "python",
   "nbconvert_exporter": "python",
   "pygments_lexer": "ipython3",
   "version": "3.9.12"
  }
 },
 "nbformat": 4,
 "nbformat_minor": 5
}
